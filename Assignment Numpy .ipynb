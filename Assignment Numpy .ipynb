{
 "cells": [
  {
   "cell_type": "code",
   "execution_count": 2,
   "metadata": {},
   "outputs": [
    {
     "name": "stdout",
     "output_type": "stream",
     "text": [
      "Enter no of columns : 4\n",
      "Enter a no of your choice : 3\n",
      "Enter a no of your choice : 6\n",
      "Enter a no of your choice : 7\n",
      "Enter a no of your choice : 2\n",
      "your vander monde matrix is :  \n"
     ]
    },
    {
     "data": {
      "text/plain": [
       "array([[ 27.,   9.,   3.,   1.],\n",
       "       [216.,  36.,   6.,   1.],\n",
       "       [343.,  49.,   7.,   1.],\n",
       "       [  8.,   4.,   2.,   1.]])"
      ]
     },
     "execution_count": 2,
     "metadata": {},
     "output_type": "execute_result"
    }
   ],
   "source": [
    "def vander_monde():\n",
    "    \"\"\" function to make a vander monde matrix by giving numbers of your choice\"\"\"\n",
    "    try:\n",
    "        import numpy as np\n",
    "        no = int(input(\"Enter no of columns : \"))\n",
    "        ar = np.empty(0) # making an empty array\n",
    "        for i in range(no):\n",
    "            a1 = int(input(\"Enter a no of your choice : \")) # taking number of user choice\n",
    "            ar = np.append(ar,a1)\n",
    "        # print(ar)\n",
    "    \n",
    "        mat = np.ones((no,no)) # making a matrix having 1 as value with required dimensions\n",
    "        for row in range(len(mat)): # iterating over rows\n",
    "            for column in range(len(mat[0])): #iterating over columns\n",
    "                mat[row][column] = ar[row]**(no-column-1)\n",
    "        print(\"your vander monde matrix is :  \" )\n",
    "        return(mat)\n",
    "    \n",
    "    except Exception as e:\n",
    "        print(e)\n",
    "        \n",
    "\n",
    "vander_monde()\n"
   ]
  },
  {
   "cell_type": "code",
   "execution_count": 3,
   "metadata": {},
   "outputs": [
    {
     "data": {
      "text/plain": [
       "[25, 35, 45, 55, 65, 75, 85]"
      ]
     },
     "execution_count": 3,
     "metadata": {},
     "output_type": "execute_result"
    }
   ],
   "source": [
    "def find_moving_averages(array,window):\n",
    "    \"\"\" function to find moving averages of a given window a with a given key k \"\"\"\n",
    "    try:\n",
    "        sequence = list(array)\n",
    "        length_of_sequence = len(sequence)\n",
    "    \n",
    "        output_list= []\n",
    "        for d in range(len(sequence)):\n",
    "            counter = 0\n",
    "            small_sequence = []\n",
    "            for num in sequence:\n",
    "                small_sequence.append(num)\n",
    "                counter = counter + 1\n",
    "                if counter == window:\n",
    "                    break\n",
    "            sum_of_num = 0\n",
    "            for element in small_sequence:\n",
    "                sum_of_num = sum_of_num + element\n",
    "            new_element = sum_of_num // window\n",
    "            output_list.append(new_element)\n",
    "            sequence.pop(0)\n",
    "        \n",
    "            if len(output_list) == length_of_sequence - k + 1:\n",
    "                break\n",
    "        return output_list\n",
    "    except Exception as e:\n",
    "        print(e)\n",
    "    \n",
    "\n",
    "l = [10,20,30,40,50,60,70,80,90,100]\n",
    "k = 4\n",
    "\n",
    "find_moving_averages(l,k)"
   ]
  },
  {
   "cell_type": "code",
   "execution_count": 4,
   "metadata": {},
   "outputs": [
    {
     "data": {
      "text/plain": [
       "[5, 4, 5, 6, 9, 28, 49, 72, 84, 93, 116]"
      ]
     },
     "execution_count": 4,
     "metadata": {},
     "output_type": "execute_result"
    }
   ],
   "source": [
    "l = [3, 5, 7, 2, 8, 10, 11, 65, 72, 81, 99, 100, 150]\n",
    "k = 3\n",
    "find_moving_averages(l,k)"
   ]
  },
  {
   "cell_type": "code",
   "execution_count": null,
   "metadata": {},
   "outputs": [],
   "source": []
  }
 ],
 "metadata": {
  "kernelspec": {
   "display_name": "Python 3",
   "language": "python",
   "name": "python3"
  },
  "language_info": {
   "codemirror_mode": {
    "name": "ipython",
    "version": 3
   },
   "file_extension": ".py",
   "mimetype": "text/x-python",
   "name": "python",
   "nbconvert_exporter": "python",
   "pygments_lexer": "ipython3",
   "version": "3.6.8"
  }
 },
 "nbformat": 4,
 "nbformat_minor": 2
}
